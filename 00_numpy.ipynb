{
 "cells": [
  {
   "cell_type": "code",
   "execution_count": null,
   "id": "53355869-f11b-4c57-90d0-77fd0d391107",
   "metadata": {},
   "outputs": [],
   "source": [
    "a = [1, 2, 3]\n",
    "a2 = [\n",
    "    [1, 2, 3], \n",
    "    [4, 5, 6], \n",
    "    [7, 8, 9]\n",
    "]"
   ]
  },
  {
   "cell_type": "code",
   "execution_count": 5,
   "id": "4710feb6-b45d-4155-9a57-4ad34d14771c",
   "metadata": {},
   "outputs": [
    {
     "ename": "ModuleNotFoundError",
     "evalue": "No module named 'numpy'",
     "output_type": "error",
     "traceback": [
      "\u001b[0;31m---------------------------------------------------------------------------\u001b[0m",
      "\u001b[0;31mModuleNotFoundError\u001b[0m                       Traceback (most recent call last)",
      "Cell \u001b[0;32mIn[5], line 1\u001b[0m\n\u001b[0;32m----> 1\u001b[0m \u001b[38;5;28;01mimport\u001b[39;00m \u001b[38;5;21;01mnumpy\u001b[39;00m \u001b[38;5;28;01mas\u001b[39;00m \u001b[38;5;21;01mnp\u001b[39;00m\n",
      "\u001b[0;31mModuleNotFoundError\u001b[0m: No module named 'numpy'"
     ]
    }
   ],
   "source": [
    "import numpy as np"
   ]
  },
  {
   "cell_type": "code",
   "execution_count": 6,
   "id": "d4128c22-957c-4feb-8ffc-5eeab984beae",
   "metadata": {},
   "outputs": [
    {
     "name": "stdout",
     "output_type": "stream",
     "text": [
      "Collecting pandas\n",
      "  Using cached pandas-2.2.2-cp312-cp312-macosx_11_0_arm64.whl.metadata (19 kB)\n",
      "Collecting numpy>=1.26.0 (from pandas)\n",
      "  Using cached numpy-2.0.0-cp312-cp312-macosx_11_0_arm64.whl.metadata (114 kB)\n",
      "Requirement already satisfied: python-dateutil>=2.8.2 in /Users/kimminsu/.pyenv/versions/3.12.4/lib/python3.12/site-packages (from pandas) (2.9.0.post0)\n",
      "Collecting pytz>=2020.1 (from pandas)\n",
      "  Using cached pytz-2024.1-py2.py3-none-any.whl.metadata (22 kB)\n",
      "Collecting tzdata>=2022.7 (from pandas)\n",
      "  Using cached tzdata-2024.1-py2.py3-none-any.whl.metadata (1.4 kB)\n",
      "Requirement already satisfied: six>=1.5 in /Users/kimminsu/.pyenv/versions/3.12.4/lib/python3.12/site-packages (from python-dateutil>=2.8.2->pandas) (1.16.0)\n",
      "Using cached pandas-2.2.2-cp312-cp312-macosx_11_0_arm64.whl (11.3 MB)\n",
      "Using cached numpy-2.0.0-cp312-cp312-macosx_11_0_arm64.whl (13.0 MB)\n",
      "Using cached pytz-2024.1-py2.py3-none-any.whl (505 kB)\n",
      "Using cached tzdata-2024.1-py2.py3-none-any.whl (345 kB)\n",
      "Installing collected packages: pytz, tzdata, numpy, pandas\n",
      "Successfully installed numpy-2.0.0 pandas-2.2.2 pytz-2024.1 tzdata-2024.1\n",
      "\n",
      "\u001b[1m[\u001b[0m\u001b[34;49mnotice\u001b[0m\u001b[1;39;49m]\u001b[0m\u001b[39;49m A new release of pip is available: \u001b[0m\u001b[31;49m24.0\u001b[0m\u001b[39;49m -> \u001b[0m\u001b[32;49m24.1.1\u001b[0m\n",
      "\u001b[1m[\u001b[0m\u001b[34;49mnotice\u001b[0m\u001b[1;39;49m]\u001b[0m\u001b[39;49m To update, run: \u001b[0m\u001b[32;49mpip install --upgrade pip\u001b[0m\n",
      "Note: you may need to restart the kernel to use updated packages.\n"
     ]
    }
   ],
   "source": [
    "pip install pandas"
   ]
  },
  {
   "cell_type": "code",
   "execution_count": 7,
   "id": "a380c253-01d7-4d8d-a3f5-d649b87da7e0",
   "metadata": {},
   "outputs": [],
   "source": [
    "import numpy as np"
   ]
  },
  {
   "cell_type": "code",
   "execution_count": 8,
   "id": "f39b018b-86bc-43e4-949e-0cf30a88b43a",
   "metadata": {},
   "outputs": [],
   "source": [
    "my_arr = np.arange(1000000)\n",
    "my_list = list(range(1000000))"
   ]
  },
  {
   "cell_type": "code",
   "execution_count": 9,
   "id": "d6da3f49-2386-480f-8964-d8f2477f82f4",
   "metadata": {},
   "outputs": [
    {
     "name": "stdout",
     "output_type": "stream",
     "text": [
      "757 μs ± 42.7 μs per loop (mean ± std. dev. of 7 runs, 1,000 loops each)\n",
      "22.4 ms ± 383 μs per loop (mean ± std. dev. of 7 runs, 10 loops each)\n"
     ]
    }
   ],
   "source": [
    "%timeit my_arr2 = my_arr * 2\n",
    "%timeit my_list2 = [x * 2 for x in my_list]"
   ]
  },
  {
   "cell_type": "code",
   "execution_count": 11,
   "id": "4885a66c-cfea-4b20-98b7-6686ac481157",
   "metadata": {},
   "outputs": [
    {
     "name": "stdout",
     "output_type": "stream",
     "text": [
      "[[   5.     1.1   -1. ]\n",
      " [ 123.  -123.     0. ]]\n"
     ]
    }
   ],
   "source": [
    "a = [\n",
    "    [5, 1.1, -1],\n",
    "    [123, -123, 0]\n",
    "]\n",
    "data = np.array(a) # 데이터 형태를 float 형태로 바꿔주는 역할 수행\n",
    "print(data)"
   ]
  },
  {
   "cell_type": "code",
   "execution_count": 14,
   "id": "116aae08-9003-43b9-b6e9-2f3848f68bcb",
   "metadata": {},
   "outputs": [
    {
     "name": "stdout",
     "output_type": "stream",
     "text": [
      "[[   50.    11.   -10.]\n",
      " [ 1230. -1230.     0.]]\n",
      "[[  10.     2.2   -2. ]\n",
      " [ 246.  -246.     0. ]]\n"
     ]
    }
   ],
   "source": [
    "# 배열에 각각 곱해주기 및 배열의 같은 위치 끼리 연산 역할 수행\n",
    "print(data * 10)\n",
    "print(data + data) "
   ]
  },
  {
   "cell_type": "code",
   "execution_count": 16,
   "id": "f94e197f-048a-464b-a886-fb614022510a",
   "metadata": {},
   "outputs": [
    {
     "name": "stdout",
     "output_type": "stream",
     "text": [
      "(2, 3)\n",
      "float64\n"
     ]
    }
   ],
   "source": [
    "print(data.shape)\n",
    "print(data.dtype)"
   ]
  },
  {
   "cell_type": "markdown",
   "id": "f3fee58c-bdc7-4a48-85c9-337fc382edbd",
   "metadata": {},
   "source": [
    "## 1.1 ndarray 생성"
   ]
  },
  {
   "cell_type": "code",
   "execution_count": 21,
   "id": "9b7abacd-4657-4ae5-b0fd-8cbd567afca9",
   "metadata": {},
   "outputs": [
    {
     "name": "stdout",
     "output_type": "stream",
     "text": [
      "[4 1 2 6 3]\n"
     ]
    }
   ],
   "source": [
    "my_list = [4, 1, 2, 6, 3]\n",
    "arr = np.array(my_list)\n",
    "print(arr)"
   ]
  },
  {
   "cell_type": "code",
   "execution_count": 19,
   "id": "045779d2-dbaa-4eb2-b16b-cfa3fc3f0c40",
   "metadata": {},
   "outputs": [
    {
     "name": "stdout",
     "output_type": "stream",
     "text": [
      "[[1 2 3 4]\n",
      " [5 6 7 8]]\n"
     ]
    }
   ],
   "source": [
    "my_list2 = [\n",
    "    [1, 2, 3, 4],\n",
    "    [5, 6, 7, 8]\n",
    "]\n",
    "\n",
    "arr2 = np.array(my_list2)\n",
    "print(arr2)"
   ]
  },
  {
   "cell_type": "code",
   "execution_count": 23,
   "id": "fe62ee17-7da3-4d63-9d66-987c4aea78ad",
   "metadata": {},
   "outputs": [
    {
     "name": "stdout",
     "output_type": "stream",
     "text": [
      "int64\n",
      "int64\n"
     ]
    }
   ],
   "source": [
    "print(arr.dtype)\n",
    "print(arr2.dtype)"
   ]
  },
  {
   "cell_type": "code",
   "execution_count": 25,
   "id": "69d086fc-387f-40cd-8247-b04d1a18a8f0",
   "metadata": {},
   "outputs": [
    {
     "name": "stdout",
     "output_type": "stream",
     "text": [
      "1\n",
      "2\n"
     ]
    }
   ],
   "source": [
    "# 차원 수 확인\n",
    "print(arr.ndim)\n",
    "print(arr2.ndim)"
   ]
  },
  {
   "cell_type": "code",
   "execution_count": 27,
   "id": "abb6e96b-a26d-4cfc-bbb4-ed77a1697149",
   "metadata": {},
   "outputs": [
    {
     "name": "stdout",
     "output_type": "stream",
     "text": [
      "(5,)\n",
      "(2, 4)\n"
     ]
    }
   ],
   "source": [
    "# 차원과 데이터 수 확인\n",
    "print(arr.shape)\n",
    "print(arr2.shape)"
   ]
  },
  {
   "cell_type": "code",
   "execution_count": 32,
   "id": "50975ced-40a6-4f2e-8bdc-cfdb2dfd73f7",
   "metadata": {},
   "outputs": [
    {
     "name": "stdout",
     "output_type": "stream",
     "text": [
      "[0. 0. 0. 0. 0. 0. 0. 0. 0. 0.]\n",
      "[[0. 0. 0. 0. 0.]\n",
      " [0. 0. 0. 0. 0.]\n",
      " [0. 0. 0. 0. 0.]\n",
      " [0. 0. 0. 0. 0.]\n",
      " [0. 0. 0. 0. 0.]]\n",
      "[[[0.00000000e+000 0.00000000e+000 6.91691904e-323 0.00000000e+000]\n",
      "  [0.00000000e+000 0.00000000e+000 0.00000000e+000 0.00000000e+000]\n",
      "  [0.00000000e+000 7.41157958e-309 0.00000000e+000 0.00000000e+000]]\n",
      "\n",
      " [[0.00000000e+000 0.00000000e+000 0.00000000e+000 0.00000000e+000]\n",
      "  [0.00000000e+000 0.00000000e+000 0.00000000e+000 2.15397847e-314]\n",
      "  [0.00000000e+000 0.00000000e+000 2.15395395e-314 2.15397847e-314]]]\n"
     ]
    }
   ],
   "source": [
    "print(np.zeros(10))\n",
    "print(np.zeros((5, 5)))\n",
    "print(np.empty((2, 3, 4)))"
   ]
  },
  {
   "cell_type": "code",
   "execution_count": 33,
   "id": "f9077e19-b75a-4ee7-9442-4f272aee8921",
   "metadata": {},
   "outputs": [
    {
     "name": "stdout",
     "output_type": "stream",
     "text": [
      "[ 0  1  2  3  4  5  6  7  8  9 10 11]\n"
     ]
    }
   ],
   "source": [
    "print(np.arange(12))"
   ]
  },
  {
   "cell_type": "markdown",
   "id": "56fd8f46-36ef-43ad-bdd3-a27f9d87223b",
   "metadata": {},
   "source": [
    "## 1.2 자료형"
   ]
  },
  {
   "cell_type": "code",
   "execution_count": 35,
   "id": "8c4ac4c8-77b1-4119-aee6-7a6bb3724348",
   "metadata": {},
   "outputs": [
    {
     "name": "stdout",
     "output_type": "stream",
     "text": [
      "float64\n",
      "int32\n"
     ]
    }
   ],
   "source": [
    "arr1 = np.array([1, 2, 3], dtype=np.float64)\n",
    "arr2 = np.array([1, 2, 3], dtype=np.int32)\n",
    "\n",
    "print(arr1.dtype)\n",
    "print(arr2.dtype)"
   ]
  },
  {
   "cell_type": "code",
   "execution_count": 36,
   "id": "609d7de4-d4c7-452e-b469-6e475a35c866",
   "metadata": {},
   "outputs": [
    {
     "name": "stdout",
     "output_type": "stream",
     "text": [
      "[1 2 3 4 5]\n",
      "[1. 2. 3. 4. 5.]\n",
      "float32\n"
     ]
    }
   ],
   "source": [
    "arr = np.array([1, 2, 3, 4, 5])\n",
    "print(arr)\n",
    "float_arr = arr.astype(np.float32)\n",
    "print(float_arr)\n",
    "print(float_arr.dtype)"
   ]
  },
  {
   "cell_type": "code",
   "execution_count": 37,
   "id": "7cb92237-ddc6-4ad5-b746-c56004b66dfb",
   "metadata": {},
   "outputs": [
    {
     "name": "stdout",
     "output_type": "stream",
     "text": [
      "[ 1  2  3 -1 -2 -3]\n"
     ]
    }
   ],
   "source": [
    "arr = np.array([1.1, 2.2, 3.3, -1.1, -2.2, -3.3])\n",
    "result = arr.astype(np.int32)\n",
    "print(result)"
   ]
  },
  {
   "cell_type": "code",
   "execution_count": 38,
   "id": "4932ff4d-1d2d-46b7-ab08-9d819fd2946f",
   "metadata": {},
   "outputs": [
    {
     "name": "stdout",
     "output_type": "stream",
     "text": [
      "[12 34 56]\n"
     ]
    }
   ],
   "source": [
    "result = np.array(['12', '34', '56'], dtype=np.int32)\n",
    "print(result)"
   ]
  },
  {
   "cell_type": "markdown",
   "id": "f9678068-2520-49b3-a27a-3d6ce4bc5c40",
   "metadata": {},
   "source": [
    "## 1.3 연산"
   ]
  },
  {
   "cell_type": "code",
   "execution_count": 40,
   "id": "840bfef1-a5c9-433e-9aa3-666861b1ff3a",
   "metadata": {},
   "outputs": [],
   "source": [
    "a = [\n",
    "    [1, 2, 3],\n",
    "    [4, 5, 6]\n",
    "]\n",
    "arr = np.array(a)"
   ]
  },
  {
   "cell_type": "code",
   "execution_count": 41,
   "id": "fa71fb97-b267-408e-96ec-908184925ae6",
   "metadata": {},
   "outputs": [
    {
     "name": "stdout",
     "output_type": "stream",
     "text": [
      "[[ 2  4  6]\n",
      " [ 8 10 12]]\n",
      "[[0 0 0]\n",
      " [0 0 0]]\n"
     ]
    }
   ],
   "source": [
    "print(arr + arr)\n",
    "print(arr - arr)"
   ]
  },
  {
   "cell_type": "code",
   "execution_count": 42,
   "id": "4a929311-c322-4951-b7eb-740860224d42",
   "metadata": {},
   "outputs": [
    {
     "name": "stdout",
     "output_type": "stream",
     "text": [
      "[[0.1 0.2 0.3]\n",
      " [0.4 0.5 0.6]]\n",
      "[[ 1  4  9]\n",
      " [16 25 36]]\n"
     ]
    }
   ],
   "source": [
    "print(arr / 10)\n",
    "print(arr ** 2)"
   ]
  },
  {
   "cell_type": "code",
   "execution_count": 43,
   "id": "593306a1-d658-4ae0-bca2-2a1c4a09f284",
   "metadata": {},
   "outputs": [
    {
     "name": "stdout",
     "output_type": "stream",
     "text": [
      "[[1 2 3]\n",
      " [4 5 6]]\n",
      "[[3 2 1]\n",
      " [6 5 4]]\n"
     ]
    }
   ],
   "source": [
    "b = [\n",
    "    [3, 2, 1],\n",
    "    [6, 5, 4]\n",
    "]\n",
    "\n",
    "arr2 = np.array(b)\n",
    "\n",
    "print(arr)\n",
    "print(arr2)"
   ]
  },
  {
   "cell_type": "code",
   "execution_count": 44,
   "id": "a3c463d0-7602-4e40-8ef5-380599e62194",
   "metadata": {},
   "outputs": [
    {
     "name": "stdout",
     "output_type": "stream",
     "text": [
      "[[False False  True]\n",
      " [False False  True]]\n"
     ]
    }
   ],
   "source": [
    "print(arr > arr2)"
   ]
  },
  {
   "cell_type": "markdown",
   "id": "1dca181c-1093-4756-9cc0-10c13c8fc4d5",
   "metadata": {},
   "source": [
    "## 1.4 인덱싱, 슬라이싱"
   ]
  },
  {
   "cell_type": "code",
   "execution_count": 47,
   "id": "c2a8edc5-59f2-4640-9ad8-bdf8b71d6e3b",
   "metadata": {},
   "outputs": [
    {
     "name": "stdout",
     "output_type": "stream",
     "text": [
      "[0 1 2 3 4 5 6 7 8 9]\n",
      "5\n",
      "[3 4 5]\n"
     ]
    }
   ],
   "source": [
    "arr = np.arange(10)\n",
    "print(arr)\n",
    "print(arr[5])\n",
    "print(arr[3:6])"
   ]
  },
  {
   "cell_type": "code",
   "execution_count": 49,
   "id": "1a222aa3-042d-4835-836a-b70c52b0ad31",
   "metadata": {},
   "outputs": [
    {
     "name": "stdout",
     "output_type": "stream",
     "text": [
      "[ 0  1  2 99 99 99  6  7  8  9]\n"
     ]
    }
   ],
   "source": [
    "arr[3:6] = 99\n",
    "print(arr)"
   ]
  },
  {
   "cell_type": "code",
   "execution_count": 52,
   "id": "45384a71-7ae8-44c0-b264-36ad7ac35371",
   "metadata": {},
   "outputs": [
    {
     "name": "stdout",
     "output_type": "stream",
     "text": [
      "[99 55 99]\n",
      "[ 0  1  2 99 55 99  6  7  8  9]\n"
     ]
    }
   ],
   "source": [
    "slice_arr = arr[3:6]\n",
    "slice_arr[1] = 55\n",
    "print(slice_arr)\n",
    "print(arr)"
   ]
  },
  {
   "cell_type": "code",
   "execution_count": 53,
   "id": "9d759955-a9a9-47c6-bce6-f23ac735d626",
   "metadata": {},
   "outputs": [
    {
     "name": "stdout",
     "output_type": "stream",
     "text": [
      "[  0   1   2 100 100 100   6   7   8   9]\n"
     ]
    }
   ],
   "source": [
    "slice_arr[:] = 100\n",
    "print(arr)"
   ]
  },
  {
   "cell_type": "code",
   "execution_count": 54,
   "id": "69d6d528-e3de-4fbf-958a-07b0f7c3e3cb",
   "metadata": {},
   "outputs": [],
   "source": [
    "a = [\n",
    "    [1, 2, 3],\n",
    "    [4, 5, 6],\n",
    "    [7, 8, 9]\n",
    "]\n",
    "arr = np.array(a)"
   ]
  },
  {
   "cell_type": "code",
   "execution_count": 55,
   "id": "22482398-2db3-47ea-84e4-8d67b7c2821f",
   "metadata": {},
   "outputs": [
    {
     "name": "stdout",
     "output_type": "stream",
     "text": [
      "5\n",
      "5\n"
     ]
    }
   ],
   "source": [
    "print(arr[1][1])\n",
    "print(arr[1, 1])"
   ]
  },
  {
   "cell_type": "code",
   "execution_count": 56,
   "id": "72b3e9f7-d4de-4f5b-926e-9c761fd09acd",
   "metadata": {},
   "outputs": [
    {
     "name": "stdout",
     "output_type": "stream",
     "text": [
      "[[[ 1  2  3]\n",
      "  [ 4  5  6]]\n",
      "\n",
      " [[ 7  8  9]\n",
      "  [10 11 12]]]\n"
     ]
    }
   ],
   "source": [
    "a = [\n",
    "        [\n",
    "            [1, 2, 3],\n",
    "            [4, 5, 6]\n",
    "        ],\n",
    "        [\n",
    "            [7, 8, 9],\n",
    "            [10, 11, 12]\n",
    "        ]\n",
    "]\n",
    "\n",
    "arr = np.array(a)\n",
    "print(arr)"
   ]
  },
  {
   "cell_type": "code",
   "execution_count": 60,
   "id": "109aaf41-c94f-4da0-8b7f-57b0f5aaa809",
   "metadata": {},
   "outputs": [
    {
     "name": "stdout",
     "output_type": "stream",
     "text": [
      "[[1 2 3]\n",
      " [4 5 6]]\n",
      "[1 2 3]\n",
      "1\n"
     ]
    }
   ],
   "source": [
    "print(arr[0])\n",
    "print(arr[0][0])\n",
    "print(arr[0][0][0])"
   ]
  },
  {
   "cell_type": "code",
   "execution_count": 63,
   "id": "2e79c11d-1983-4ace-820f-f4cad0fa9940",
   "metadata": {},
   "outputs": [
    {
     "name": "stdout",
     "output_type": "stream",
     "text": [
      "[0 1 2 3 4 5 6 7 8 9]\n"
     ]
    }
   ],
   "source": [
    "arr = np.arange(10)\n",
    "print(arr)"
   ]
  },
  {
   "cell_type": "code",
   "execution_count": 64,
   "id": "b57f6c29-5da3-45fc-99f6-b6f16d122566",
   "metadata": {},
   "outputs": [
    {
     "data": {
      "text/plain": [
       "array([1, 2, 3, 4, 5, 6, 7, 8, 9])"
      ]
     },
     "execution_count": 64,
     "metadata": {},
     "output_type": "execute_result"
    }
   ],
   "source": [
    "arr[1:]"
   ]
  },
  {
   "cell_type": "code",
   "execution_count": 67,
   "id": "27dec68f-2b70-4c21-bb2c-0528c61d050d",
   "metadata": {},
   "outputs": [
    {
     "name": "stdout",
     "output_type": "stream",
     "text": [
      "[[0 1 2]\n",
      " [3 4 5]\n",
      " [6 7 8]]\n"
     ]
    }
   ],
   "source": [
    "arr2d = np.arange(9).reshape(3, 3)\n",
    "print(arr2d)"
   ]
  },
  {
   "cell_type": "code",
   "execution_count": 70,
   "id": "ae9f3793-72b8-417b-8d1d-5c63ae7fbd8f",
   "metadata": {},
   "outputs": [
    {
     "name": "stdout",
     "output_type": "stream",
     "text": [
      "[[0 1 2]\n",
      " [3 4 5]]\n",
      "[[1 2]\n",
      " [4 5]]\n"
     ]
    }
   ],
   "source": [
    "print(arr2d[:2])\n",
    "print(arr2d[:2, 1:])"
   ]
  },
  {
   "cell_type": "code",
   "execution_count": 71,
   "id": "ded8fcb7-28a7-4494-b891-947eff665d29",
   "metadata": {},
   "outputs": [
    {
     "data": {
      "text/plain": [
       "array([3, 4])"
      ]
     },
     "execution_count": 71,
     "metadata": {},
     "output_type": "execute_result"
    }
   ],
   "source": [
    "arr2d[1, :2]"
   ]
  },
  {
   "cell_type": "code",
   "execution_count": 72,
   "id": "b251ef54-d3da-41f9-be33-7d0b2ced6022",
   "metadata": {},
   "outputs": [
    {
     "data": {
      "text/plain": [
       "array([[0],\n",
       "       [3],\n",
       "       [6]])"
      ]
     },
     "execution_count": 72,
     "metadata": {},
     "output_type": "execute_result"
    }
   ],
   "source": [
    "arr2d[:, :1]"
   ]
  },
  {
   "cell_type": "code",
   "execution_count": 73,
   "id": "4e809b14-2897-4e3a-b590-0fc2e445c408",
   "metadata": {},
   "outputs": [
    {
     "name": "stdout",
     "output_type": "stream",
     "text": [
      "[[99  1  2]\n",
      " [99  4  5]\n",
      " [99  7  8]]\n"
     ]
    }
   ],
   "source": [
    "arr2d[:, :1] = 99\n",
    "print(arr2d)"
   ]
  },
  {
   "cell_type": "markdown",
   "id": "2b0aece2-3e96-4ac3-a3c5-2136d20975d0",
   "metadata": {},
   "source": [
    "## bool 값으로 선택"
   ]
  },
  {
   "cell_type": "code",
   "execution_count": 79,
   "id": "69832e08-9e1b-44d1-a042-7c2f703bea18",
   "metadata": {},
   "outputs": [],
   "source": [
    "names = ['hong', 'kim', 'park', 'kim']\n",
    "scores = [\n",
    "    ['수학', 70],\n",
    "    ['영어', 80],\n",
    "    ['수학', 100],\n",
    "    ['수학', 90]\n",
    "]"
   ]
  },
  {
   "cell_type": "code",
   "execution_count": 80,
   "id": "264c7e4c-9714-4a78-af66-9ae3b943622b",
   "metadata": {},
   "outputs": [],
   "source": [
    "names_arr = np.array(names)\n",
    "scores_arr = np.array(scores)"
   ]
  },
  {
   "cell_type": "code",
   "execution_count": 81,
   "id": "a885b4e4-22f6-464a-810f-258fe31010b4",
   "metadata": {},
   "outputs": [
    {
     "name": "stdout",
     "output_type": "stream",
     "text": [
      "['hong' 'kim' 'park' 'kim']\n",
      "[['수학' '70']\n",
      " ['영어' '80']\n",
      " ['수학' '100']\n",
      " ['수학' '90']]\n"
     ]
    }
   ],
   "source": [
    "print(names_arr)\n",
    "print(scores_arr)"
   ]
  },
  {
   "cell_type": "code",
   "execution_count": 82,
   "id": "a360db47-8042-482a-9dde-d6a2cca651df",
   "metadata": {},
   "outputs": [
    {
     "data": {
      "text/plain": [
       "array([False, False,  True, False])"
      ]
     },
     "execution_count": 82,
     "metadata": {},
     "output_type": "execute_result"
    }
   ],
   "source": [
    "names_arr == 'park'"
   ]
  },
  {
   "cell_type": "code",
   "execution_count": 84,
   "id": "cd5e03eb-6ba8-4421-acd4-fff1a214194b",
   "metadata": {},
   "outputs": [
    {
     "data": {
      "text/plain": [
       "array([['수학', '100']], dtype='<U21')"
      ]
     },
     "execution_count": 84,
     "metadata": {},
     "output_type": "execute_result"
    }
   ],
   "source": [
    "scores_arr[names_arr == 'park']"
   ]
  },
  {
   "cell_type": "code",
   "execution_count": 87,
   "id": "a3154e54-fdeb-4308-870c-0d315a385e2f",
   "metadata": {},
   "outputs": [
    {
     "data": {
      "text/plain": [
       "array([['80'],\n",
       "       ['90']], dtype='<U21')"
      ]
     },
     "execution_count": 87,
     "metadata": {},
     "output_type": "execute_result"
    }
   ],
   "source": [
    "scores_arr[names_arr == 'kim', 1:]"
   ]
  },
  {
   "cell_type": "code",
   "execution_count": 88,
   "id": "c6ae0281-24e7-4817-918e-77dcfe6e8462",
   "metadata": {},
   "outputs": [
    {
     "data": {
      "text/plain": [
       "array(['80', '90'], dtype='<U21')"
      ]
     },
     "execution_count": 88,
     "metadata": {},
     "output_type": "execute_result"
    }
   ],
   "source": [
    "scores_arr[names_arr == 'kim', 1]"
   ]
  },
  {
   "cell_type": "code",
   "execution_count": 90,
   "id": "cb841b94-8537-49e8-9ca2-dd49c55a6c76",
   "metadata": {},
   "outputs": [
    {
     "name": "stdout",
     "output_type": "stream",
     "text": [
      "[ True False  True False]\n",
      "[ True False  True False]\n"
     ]
    }
   ],
   "source": [
    "print(names_arr != 'kim')\n",
    "print(~(names_arr == 'kim')) # ~() 는 안에 있는 데이터를 반대로 치환"
   ]
  },
  {
   "cell_type": "code",
   "execution_count": 91,
   "id": "a09e8d0d-1e33-495c-9f2d-efaeda254331",
   "metadata": {},
   "outputs": [
    {
     "data": {
      "text/plain": [
       "array([['수학', '70']], dtype='<U21')"
      ]
     },
     "execution_count": 91,
     "metadata": {},
     "output_type": "execute_result"
    }
   ],
   "source": [
    "cond = names_arr == 'hong'\n",
    "scores_arr[cond]"
   ]
  },
  {
   "cell_type": "code",
   "execution_count": 92,
   "id": "4f366f82-9035-49a1-a3f7-ab67f0bd3d4b",
   "metadata": {},
   "outputs": [
    {
     "data": {
      "text/plain": [
       "array([['영어', '80'],\n",
       "       ['수학', '100'],\n",
       "       ['수학', '90']], dtype='<U21')"
      ]
     },
     "execution_count": 92,
     "metadata": {},
     "output_type": "execute_result"
    }
   ],
   "source": [
    "cond = (names_arr == 'kim') | (names_arr == 'park')\n",
    "scores_arr[cond]"
   ]
  },
  {
   "cell_type": "markdown",
   "id": "0472f8ec-32ba-4b39-9c5a-2a7f5c82fd38",
   "metadata": {},
   "source": [
    "## 1.6 팬시 인덱싱(fancy indexing)"
   ]
  },
  {
   "cell_type": "code",
   "execution_count": 97,
   "id": "d80d80f9-4846-4bcf-8aad-f5c59df2424d",
   "metadata": {},
   "outputs": [
    {
     "name": "stdout",
     "output_type": "stream",
     "text": [
      "[[ 0  1  2  3]\n",
      " [ 4  5  6  7]\n",
      " [ 8  9 10 11]\n",
      " [12 13 14 15]\n",
      " [16 17 18 19]\n",
      " [20 21 22 23]\n",
      " [24 25 26 27]\n",
      " [28 29 30 31]]\n"
     ]
    }
   ],
   "source": [
    "arr = np.arange(32).reshape(8, 4)\n",
    "print(arr)"
   ]
  },
  {
   "cell_type": "code",
   "execution_count": 98,
   "id": "5621f75d-2097-459f-8d42-7c813e9d7e2e",
   "metadata": {},
   "outputs": [
    {
     "name": "stdout",
     "output_type": "stream",
     "text": [
      "[[ 0  1  2  3]\n",
      " [12 13 14 15]\n",
      " [ 8  9 10 11]\n",
      " [ 4  5  6  7]\n",
      " [24 25 26 27]]\n"
     ]
    }
   ],
   "source": [
    "print(arr[[0, 3, 2, 1, 6]])"
   ]
  },
  {
   "cell_type": "code",
   "execution_count": 99,
   "id": "4bc404ea-9a33-410c-b2df-5fce5a5d1983",
   "metadata": {},
   "outputs": [
    {
     "name": "stdout",
     "output_type": "stream",
     "text": [
      "[[20 21 22 23]\n",
      " [28 29 30 31]]\n"
     ]
    }
   ],
   "source": [
    "print(arr[[-3, -1]])"
   ]
  },
  {
   "cell_type": "code",
   "execution_count": 101,
   "id": "35f2fb46-6e20-4954-a7d9-a3290e0722af",
   "metadata": {},
   "outputs": [
    {
     "data": {
      "text/plain": [
       "array([15, 10,  5])"
      ]
     },
     "execution_count": 101,
     "metadata": {},
     "output_type": "execute_result"
    }
   ],
   "source": [
    "arr[[3, 2, 1], [3, 2, 1]] # (3, 3), (2, 2), (1, 1) 데이터 출력"
   ]
  },
  {
   "cell_type": "code",
   "execution_count": 102,
   "id": "ecf8a417-f0b2-492b-902f-0ee0ebf70192",
   "metadata": {},
   "outputs": [
    {
     "name": "stdout",
     "output_type": "stream",
     "text": [
      "[[ 0  1  2  3]\n",
      " [ 4 99  6  7]\n",
      " [ 8  9 99 11]\n",
      " [12 13 14 99]\n",
      " [16 17 18 19]\n",
      " [20 21 22 23]\n",
      " [24 25 26 27]\n",
      " [28 29 30 31]]\n"
     ]
    }
   ],
   "source": [
    "arr[[3, 2, 1], [3, 2, 1]] = 99\n",
    "print(arr)"
   ]
  },
  {
   "cell_type": "markdown",
   "id": "b63e2740-5bfe-4a4e-a3ed-8740f5625c4e",
   "metadata": {},
   "source": [
    "## 1.7 전치"
   ]
  },
  {
   "cell_type": "code",
   "execution_count": 106,
   "id": "2a439a16-9692-4be2-9b94-f95ff83d60b9",
   "metadata": {},
   "outputs": [
    {
     "name": "stdout",
     "output_type": "stream",
     "text": [
      "[[ 0  1  2  3  4]\n",
      " [ 5  6  7  8  9]\n",
      " [10 11 12 13 14]]\n",
      "[[ 0  5 10]\n",
      " [ 1  6 11]\n",
      " [ 2  7 12]\n",
      " [ 3  8 13]\n",
      " [ 4  9 14]]\n"
     ]
    }
   ],
   "source": [
    "arr = np.arange(15).reshape(3, 5)\n",
    "print(arr)\n",
    "print(arr.T)"
   ]
  },
  {
   "cell_type": "code",
   "execution_count": 109,
   "id": "fd17175a-bf60-4304-a913-1a36028e1dd9",
   "metadata": {},
   "outputs": [
    {
     "name": "stdout",
     "output_type": "stream",
     "text": [
      "[[ 30  80 130]\n",
      " [ 80 255 430]\n",
      " [130 430 730]]\n",
      "[[ 30  80 130]\n",
      " [ 80 255 430]\n",
      " [130 430 730]]\n"
     ]
    }
   ],
   "source": [
    "print(np.dot(arr, arr.T))\n",
    "print(arr @ arr.T)"
   ]
  },
  {
   "cell_type": "markdown",
   "id": "eda4627f-ab38-491d-83d9-b01dfd5e9ba2",
   "metadata": {},
   "source": [
    "### 난수 생성"
   ]
  },
  {
   "cell_type": "code",
   "execution_count": 111,
   "id": "75889a44-88f8-4120-86cc-8a000d2aeebc",
   "metadata": {},
   "outputs": [
    {
     "name": "stdout",
     "output_type": "stream",
     "text": [
      "[[ 1.00863674 -0.52166297  0.4908656  -0.22310065]\n",
      " [ 0.66510213  0.5142426   0.85948934  1.43952257]\n",
      " [-0.69204244 -0.5046212  -1.41088472 -0.84022821]\n",
      " [-0.98920756 -0.72827713  0.55080901 -0.85643122]]\n"
     ]
    }
   ],
   "source": [
    "sample = np.random.standard_normal(size=(4, 4))\n",
    "print(sample)"
   ]
  },
  {
   "cell_type": "code",
   "execution_count": 113,
   "id": "42299576-696c-4052-aecd-da2a2a617f0b",
   "metadata": {},
   "outputs": [
    {
     "name": "stderr",
     "output_type": "stream",
     "text": [
      "/var/folders/40/58yhrb9d7q32wcxf8vbspv8h0000gn/T/ipykernel_86694/1376349684.py:1: RuntimeWarning: invalid value encountered in sqrt\n",
      "  np.sqrt(sample)\n"
     ]
    },
    {
     "data": {
      "text/plain": [
       "array([[1.00430909,        nan, 0.70061801,        nan],\n",
       "       [0.81553794, 0.71710711, 0.92708648, 1.19980105],\n",
       "       [       nan,        nan,        nan,        nan],\n",
       "       [       nan,        nan, 0.74216508,        nan]])"
      ]
     },
     "execution_count": 113,
     "metadata": {},
     "output_type": "execute_result"
    }
   ],
   "source": [
    "np.sqrt(sample)"
   ]
  },
  {
   "cell_type": "code",
   "execution_count": 114,
   "id": "e53129f8-21e2-4f1e-b083-ba60da11bbc8",
   "metadata": {},
   "outputs": [
    {
     "name": "stdout",
     "output_type": "stream",
     "text": [
      "[[1.00863674 0.52166297 0.4908656  0.22310065]\n",
      " [0.66510213 0.5142426  0.85948934 1.43952257]\n",
      " [0.69204244 0.5046212  1.41088472 0.84022821]\n",
      " [0.98920756 0.72827713 0.55080901 0.85643122]]\n"
     ]
    }
   ],
   "source": [
    "print(np.abs(sample))"
   ]
  },
  {
   "cell_type": "code",
   "execution_count": 116,
   "id": "f9747d53-1cda-4cc1-811e-93663b437d12",
   "metadata": {},
   "outputs": [
    {
     "name": "stdout",
     "output_type": "stream",
     "text": [
      "[[False  True False  True]\n",
      " [False False False False]\n",
      " [ True  True  True  True]\n",
      " [ True  True False  True]]\n"
     ]
    },
    {
     "name": "stderr",
     "output_type": "stream",
     "text": [
      "/var/folders/40/58yhrb9d7q32wcxf8vbspv8h0000gn/T/ipykernel_86694/2603299333.py:1: RuntimeWarning: invalid value encountered in sqrt\n",
      "  print(np.isnan(np.sqrt(sample)))\n"
     ]
    }
   ],
   "source": [
    "print(np.isnan(np.sqrt(sample)))"
   ]
  },
  {
   "cell_type": "code",
   "execution_count": 119,
   "id": "e4ae2e4e-8159-4499-98bf-865387163ac4",
   "metadata": {},
   "outputs": [
    {
     "name": "stdout",
     "output_type": "stream",
     "text": [
      "[0, -1, 0, -1, 0, -1, -2, -3, -2, -1, 0, -1, 0, -1, -2, -3, -2, -3, -4, -5, -4, -5, -4, -3, -4, -3, -4, -3, -2, -3, -2, -3, -2, -1, 0, -1, -2, -1, 0, 1, 2, 3, 4, 5, 6, 7, 8, 7, 6, 7, 8, 9, 8, 7, 8, 9, 10, 11, 12, 13, 14, 13, 14, 15, 14, 15, 14, 13, 12, 13, 12, 11, 12, 13, 12, 11, 10, 11, 10, 11, 12, 13, 12, 13, 14, 13, 14, 13, 12, 11, 12, 11, 10, 11, 12, 13, 14, 13, 12, 11, 10, 11, 12, 13, 12, 11, 12, 11, 10, 11, 12, 13, 14, 13, 14, 13, 12, 11, 10, 11, 12, 13, 12, 11, 10, 9, 8, 7, 6, 5, 6, 5, 6, 7, 6, 7, 8, 7, 6, 5, 6, 7, 8, 9, 8, 7, 8, 7, 8, 9, 10, 11, 10, 11, 10, 9, 10, 11, 10, 9, 8, 7, 8, 7, 8, 9, 10, 11, 12, 13, 12, 11, 10, 9, 10, 9, 8, 9, 8, 9, 8, 9, 10, 11, 10, 9, 10, 9, 10, 11, 10, 11, 10, 9, 8, 9, 10, 9, 8, 9, 8, 9, 8, 9, 10, 11, 12, 11, 10, 9, 10, 11, 10, 11, 12, 11, 12, 13, 14, 15, 14, 15, 14, 13, 12, 11, 12, 11, 10, 9, 8, 9, 8, 7, 8, 9, 8, 9, 10, 11, 10, 9, 8, 7, 8, 9, 8, 9, 8, 7, 8, 7, 6, 7, 6, 5, 4, 3, 4, 3, 2, 3, 4, 5, 6, 5, 4, 5, 4, 3, 2, 3, 4, 3, 2, 1, 0, -1, 0, -1, -2, -3, -2, -3, -4, -5, -6, -5, -4, -3, -2, -3, -2, -3, -2, -1, -2, -1, -2, -1, -2, -3, -2, -1, -2, -1, 0, 1, 0, 1, 2, 1, 2, 3, 2, 1, 0, -1, 0, 1, 2, 3, 2, 1, 0, 1, 0, 1, 0, -1, -2, -1, 0, 1, 2, 3, 4, 3, 2, 3, 4, 5, 6, 7, 8, 7, 6, 5, 6, 5, 4, 5, 6, 5, 4, 5, 6, 7, 8, 7, 6, 5, 6, 5, 4, 3, 2, 1, 0, 1, 2, 3, 2, 3, 4, 3, 2, 3, 4, 5, 6, 7, 8, 9, 10, 11, 12, 11, 10, 9, 8, 7, 8, 7, 8, 7, 6, 5, 6, 5, 6, 7, 6, 7, 8, 7, 6, 5, 6, 7, 8, 7, 8, 7, 6, 7, 6, 7, 6, 5, 4, 3, 2, 3, 4, 3, 2, 1, 2, 1, 2, 3, 4, 3, 2, 3, 4, 5, 6, 7, 6, 7, 8, 9, 8, 9, 10, 11, 10, 9, 10, 11, 10, 11, 12, 11, 10, 11, 12, 11, 12, 11, 12, 13, 12, 13, 12, 13, 12, 13, 14, 15, 14, 15, 16, 17, 16, 17, 16, 17, 16, 17, 18, 17, 16, 15, 16, 15, 16, 15, 16, 17, 18, 17, 18, 17, 18, 17, 16, 17, 16, 15, 14, 13, 14, 13, 12, 13, 12, 11, 12, 11, 10, 11, 10, 11, 10, 11, 12, 11, 10, 9, 10, 11, 12, 13, 14, 13, 12, 11, 10, 11, 10, 9, 8, 9, 8, 7, 6, 7, 8, 9, 10, 9, 10, 11, 12, 11, 10, 9, 10, 9, 8, 7, 6, 5, 6, 5, 6, 7, 6, 7, 6, 7, 8, 9, 8, 9, 10, 11, 10, 11, 12, 11, 12, 11, 12, 13, 12, 13, 12, 13, 14, 15, 16, 17, 18, 19, 18, 19, 18, 19, 18, 19, 20, 19, 20, 21, 22, 23, 22, 21, 20, 21, 22, 21, 20, 21, 20, 21, 22, 23, 22, 23, 24, 23, 22, 23, 24, 25, 26, 25, 24, 25, 26, 25, 24, 25, 26, 25, 26, 25, 26, 27, 28, 29, 28, 27, 26, 25, 26, 27, 26, 27, 26, 25, 26, 25, 26, 27, 26, 25, 26, 27, 26, 25, 26, 27, 26, 25, 24, 25, 24, 25, 24, 25, 26, 25, 24, 25, 24, 23, 24, 23, 24, 23, 22, 21, 22, 21, 20, 19, 20, 21, 22, 23, 22, 21, 20, 21, 22, 21, 20, 21, 20, 21, 22, 23, 24, 23, 22, 23, 22, 23, 22, 23, 24, 25, 24, 23, 22, 23, 22, 23, 22, 21, 20, 19, 20, 21, 20, 19, 20, 21, 22, 21, 22, 21, 22, 23, 22, 23, 22, 23, 24, 25, 26, 27, 28, 27, 26, 27, 28, 27, 28, 27, 28, 27, 26, 25, 26, 27, 28, 27, 28, 29, 30, 29, 30, 29, 28, 27, 26, 27, 26, 27, 28, 29, 28, 27, 28, 29, 28, 27, 28, 29, 30, 29, 30, 31, 30, 31, 32, 33, 32, 33, 32, 33, 32, 33, 34, 35, 34, 33, 34, 33, 34, 33, 34, 33, 32, 31, 30, 31, 30, 31, 32, 31, 30, 31, 32, 33, 34, 35, 36, 37, 38, 39, 38, 39, 38, 39, 40, 39, 40, 41, 40, 41, 42, 41, 40, 41, 42, 41, 40, 41, 42, 41, 40, 39, 38, 39, 38, 39, 40, 41, 42, 41, 40, 41, 42, 43, 42, 43, 44, 45, 44, 43, 42, 41, 40, 39, 38, 39, 38, 37, 36, 35, 34, 35, 34, 33, 32, 33, 34, 35, 34, 33, 32, 33, 32, 33, 34, 35, 36, 35, 36, 37, 38, 39, 38, 39, 38, 37, 38, 37, 38, 37, 36, 37, 36, 37, 36, 37, 36, 35, 34, 35, 34, 35, 34, 35, 36, 35, 34, 33, 32, 31, 30, 31, 30, 29, 28, 29, 28, 27, 26, 27, 28, 27, 28, 27, 28, 29, 28, 29, 28, 27, 26, 25, 26, 25, 24, 25, 24, 25, 26, 27, 26, 25, 26, 25, 24, 23, 24, 23, 22, 21, 22, 23, 22, 23, 24, 25, 26, 27, 28, 29, 30, 29, 28, 27, 28, 29, 30, 29, 30, 29, 28, 29, 30, 29, 30, 31, 30, 31, 30, 31, 30, 31, 30, 29, 28, 29, 28, 29, 30, 31, 32, 33, 32]\n"
     ]
    }
   ],
   "source": [
    "import random\n",
    "position = 0\n",
    "walk = [position]\n",
    "nsteps = 1000\n",
    "for _ in range(nsteps):\n",
    "    step = 1 if random.randint(0, 1) else -1\n",
    "    position += step\n",
    "    walk.append(position)\n",
    "walk_arr = np.array(walk)\n",
    "print(walk)"
   ]
  },
  {
   "cell_type": "code",
   "execution_count": 121,
   "id": "d784b9c2-e18a-4da1-85aa-aba43cc28735",
   "metadata": {},
   "outputs": [
    {
     "name": "stdout",
     "output_type": "stream",
     "text": [
      "Collecting matplotlib\n",
      "  Using cached matplotlib-3.9.1-cp312-cp312-macosx_11_0_arm64.whl.metadata (11 kB)\n",
      "Collecting contourpy>=1.0.1 (from matplotlib)\n",
      "  Using cached contourpy-1.2.1-cp312-cp312-macosx_11_0_arm64.whl.metadata (5.8 kB)\n",
      "Collecting cycler>=0.10 (from matplotlib)\n",
      "  Using cached cycler-0.12.1-py3-none-any.whl.metadata (3.8 kB)\n",
      "Collecting fonttools>=4.22.0 (from matplotlib)\n",
      "  Using cached fonttools-4.53.0-cp312-cp312-macosx_11_0_arm64.whl.metadata (162 kB)\n",
      "Collecting kiwisolver>=1.3.1 (from matplotlib)\n",
      "  Using cached kiwisolver-1.4.5-cp312-cp312-macosx_11_0_arm64.whl.metadata (6.4 kB)\n",
      "Requirement already satisfied: numpy>=1.23 in /Users/kimminsu/.pyenv/versions/3.12.4/lib/python3.12/site-packages (from matplotlib) (2.0.0)\n",
      "Requirement already satisfied: packaging>=20.0 in /Users/kimminsu/.pyenv/versions/3.12.4/lib/python3.12/site-packages (from matplotlib) (24.1)\n",
      "Collecting pillow>=8 (from matplotlib)\n",
      "  Using cached pillow-10.4.0-cp312-cp312-macosx_11_0_arm64.whl.metadata (9.2 kB)\n",
      "Collecting pyparsing>=2.3.1 (from matplotlib)\n",
      "  Using cached pyparsing-3.1.2-py3-none-any.whl.metadata (5.1 kB)\n",
      "Requirement already satisfied: python-dateutil>=2.7 in /Users/kimminsu/.pyenv/versions/3.12.4/lib/python3.12/site-packages (from matplotlib) (2.9.0.post0)\n",
      "Requirement already satisfied: six>=1.5 in /Users/kimminsu/.pyenv/versions/3.12.4/lib/python3.12/site-packages (from python-dateutil>=2.7->matplotlib) (1.16.0)\n",
      "Using cached matplotlib-3.9.1-cp312-cp312-macosx_11_0_arm64.whl (7.8 MB)\n",
      "Using cached contourpy-1.2.1-cp312-cp312-macosx_11_0_arm64.whl (245 kB)\n",
      "Using cached cycler-0.12.1-py3-none-any.whl (8.3 kB)\n",
      "Using cached fonttools-4.53.0-cp312-cp312-macosx_11_0_arm64.whl (2.2 MB)\n",
      "Using cached kiwisolver-1.4.5-cp312-cp312-macosx_11_0_arm64.whl (64 kB)\n",
      "Using cached pillow-10.4.0-cp312-cp312-macosx_11_0_arm64.whl (3.4 MB)\n",
      "Using cached pyparsing-3.1.2-py3-none-any.whl (103 kB)\n",
      "Installing collected packages: pyparsing, pillow, kiwisolver, fonttools, cycler, contourpy, matplotlib\n",
      "Successfully installed contourpy-1.2.1 cycler-0.12.1 fonttools-4.53.0 kiwisolver-1.4.5 matplotlib-3.9.1 pillow-10.4.0 pyparsing-3.1.2\n",
      "\n",
      "\u001b[1m[\u001b[0m\u001b[34;49mnotice\u001b[0m\u001b[1;39;49m]\u001b[0m\u001b[39;49m A new release of pip is available: \u001b[0m\u001b[31;49m24.0\u001b[0m\u001b[39;49m -> \u001b[0m\u001b[32;49m24.1.1\u001b[0m\n",
      "\u001b[1m[\u001b[0m\u001b[34;49mnotice\u001b[0m\u001b[1;39;49m]\u001b[0m\u001b[39;49m To update, run: \u001b[0m\u001b[32;49mpip install --upgrade pip\u001b[0m\n",
      "Note: you may need to restart the kernel to use updated packages.\n"
     ]
    }
   ],
   "source": [
    "pip install matplotlib"
   ]
  },
  {
   "cell_type": "code",
   "execution_count": 123,
   "id": "37f4d637-0594-4edf-b080-cc17fd79472a",
   "metadata": {},
   "outputs": [
    {
     "data": {
      "text/plain": [
       "<Figure size 640x480 with 0 Axes>"
      ]
     },
     "execution_count": 123,
     "metadata": {},
     "output_type": "execute_result"
    },
    {
     "data": {
      "text/plain": [
       "<Figure size 640x480 with 0 Axes>"
      ]
     },
     "metadata": {},
     "output_type": "display_data"
    }
   ],
   "source": [
    "import matplotlib.pyplot as plt\n",
    "plt.figure()"
   ]
  },
  {
   "cell_type": "code",
   "execution_count": 124,
   "id": "649ed1ac-ed8e-4276-bde6-49bbfa30b9db",
   "metadata": {},
   "outputs": [
    {
     "data": {
      "image/png": "[encoded data removed]",
      "text/plain": [
       "<Figure size 640x480 with 1 Axes>"
      ]
     },
     "metadata": {},
     "output_type": "display_data"
    }
   ],
   "source": [
    "plt.plot(walk_arr[:100])\n",
    "plt.show()"
   ]
  },
  {
   "cell_type": "code",
   "execution_count": 127,
   "id": "66ebc4c2-5021-487d-b04c-5ca59605aeb3",
   "metadata": {},
   "outputs": [
    {
     "name": "stdout",
     "output_type": "stream",
     "text": [
      "15\n",
      "-5\n",
      "43\n"
     ]
    }
   ],
   "source": [
    "print(walk_arr[:100].max())\n",
    "print(walk_arr[:100].min())\n",
    "print((walk_arr[:100] >= 5).argmax())"
   ]
  },
  {
   "cell_type": "code",
   "execution_count": null,
   "id": "7035e213-cc7b-4da4-ac59-3892c45b52e6",
   "metadata": {},
   "outputs": [],
   "source": []
  }
 ],
 "metadata": {
  "kernelspec": {
   "display_name": "Python 3 (ipykernel)",
   "language": "python",
   "name": "python3"
  },
  "language_info": {
   "codemirror_mode": {
    "name": "ipython",
    "version": 3
   },
   "file_extension": ".py",
   "mimetype": "text/x-python",
   "name": "python",
   "nbconvert_exporter": "python",
   "pygments_lexer": "ipython3",
   "version": "3.12.4"
  }
 },
 "nbformat": 4,
 "nbformat_minor": 5
}
